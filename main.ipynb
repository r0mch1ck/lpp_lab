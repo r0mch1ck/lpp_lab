{
 "cells": [
  {
   "cell_type": "code",
   "execution_count": 788,
   "id": "initial_id",
   "metadata": {
    "collapsed": true,
    "ExecuteTime": {
     "end_time": "2024-09-28T18:20:14.928795600Z",
     "start_time": "2024-09-28T18:20:14.724863500Z"
    }
   },
   "outputs": [],
   "source": [
    "import numpy as np\n",
    "import pandas as pd\n",
    "import matplotlib.pyplot as plt\n",
    "import seaborn as sns\n",
    "from scipy import stats\n",
    "\n",
    "from sklearn.linear_model import Ridge, LinearRegression\n",
    "from sklearn.neural_network import MLPRegressor\n",
    "from sklearn.model_selection import train_test_split\n",
    "from sklearn.preprocessing import LabelEncoder\n",
    "from sklearn.preprocessing import StandardScaler, MinMaxScaler\n",
    "from sklearn.metrics import mean_absolute_error, mean_squared_error, r2_score"
   ]
  },
  {
   "cell_type": "code",
   "execution_count": 789,
   "outputs": [
    {
     "data": {
      "text/plain": "          country  year     sex          age  suicides_no  population  \\\n0         Albania  1987    male  15-24 years           21      312900   \n1         Albania  1987    male  35-54 years           16      308000   \n2         Albania  1987  female  15-24 years           14      289700   \n3         Albania  1987    male    75+ years            1       21800   \n4         Albania  1987    male  25-34 years            9      274300   \n...           ...   ...     ...          ...          ...         ...   \n27815  Uzbekistan  2014  female  35-54 years          107     3620833   \n27816  Uzbekistan  2014  female    75+ years            9      348465   \n27817  Uzbekistan  2014    male   5-14 years           60     2762158   \n27818  Uzbekistan  2014  female   5-14 years           44     2631600   \n27819  Uzbekistan  2014  female  55-74 years           21     1438935   \n\n       suicides/100k pop    country-year  HDI for year   gdp_for_year   \\\n0                   6.71     Albania1987           NaN   2,156,624,900   \n1                   5.19     Albania1987           NaN   2,156,624,900   \n2                   4.83     Albania1987           NaN   2,156,624,900   \n3                   4.59     Albania1987           NaN   2,156,624,900   \n4                   3.28     Albania1987           NaN   2,156,624,900   \n...                  ...             ...           ...             ...   \n27815               2.96  Uzbekistan2014         0.675  63,067,077,179   \n27816               2.58  Uzbekistan2014         0.675  63,067,077,179   \n27817               2.17  Uzbekistan2014         0.675  63,067,077,179   \n27818               1.67  Uzbekistan2014         0.675  63,067,077,179   \n27819               1.46  Uzbekistan2014         0.675  63,067,077,179   \n\n       gdp_per_capita       generation  \n0                 796     Generation X  \n1                 796           Silent  \n2                 796     Generation X  \n3                 796  G.I. Generation  \n4                 796          Boomers  \n...               ...              ...  \n27815            2309     Generation X  \n27816            2309           Silent  \n27817            2309     Generation Z  \n27818            2309     Generation Z  \n27819            2309          Boomers  \n\n[27820 rows x 12 columns]",
      "text/html": "<div>\n<style scoped>\n    .dataframe tbody tr th:only-of-type {\n        vertical-align: middle;\n    }\n\n    .dataframe tbody tr th {\n        vertical-align: top;\n    }\n\n    .dataframe thead th {\n        text-align: right;\n    }\n</style>\n<table border=\"1\" class=\"dataframe\">\n  <thead>\n    <tr style=\"text-align: right;\">\n      <th></th>\n      <th>country</th>\n      <th>year</th>\n      <th>sex</th>\n      <th>age</th>\n      <th>suicides_no</th>\n      <th>population</th>\n      <th>suicides/100k pop</th>\n      <th>country-year</th>\n      <th>HDI for year</th>\n      <th>gdp_for_year</th>\n      <th>gdp_per_capita</th>\n      <th>generation</th>\n    </tr>\n  </thead>\n  <tbody>\n    <tr>\n      <th>0</th>\n      <td>Albania</td>\n      <td>1987</td>\n      <td>male</td>\n      <td>15-24 years</td>\n      <td>21</td>\n      <td>312900</td>\n      <td>6.71</td>\n      <td>Albania1987</td>\n      <td>NaN</td>\n      <td>2,156,624,900</td>\n      <td>796</td>\n      <td>Generation X</td>\n    </tr>\n    <tr>\n      <th>1</th>\n      <td>Albania</td>\n      <td>1987</td>\n      <td>male</td>\n      <td>35-54 years</td>\n      <td>16</td>\n      <td>308000</td>\n      <td>5.19</td>\n      <td>Albania1987</td>\n      <td>NaN</td>\n      <td>2,156,624,900</td>\n      <td>796</td>\n      <td>Silent</td>\n    </tr>\n    <tr>\n      <th>2</th>\n      <td>Albania</td>\n      <td>1987</td>\n      <td>female</td>\n      <td>15-24 years</td>\n      <td>14</td>\n      <td>289700</td>\n      <td>4.83</td>\n      <td>Albania1987</td>\n      <td>NaN</td>\n      <td>2,156,624,900</td>\n      <td>796</td>\n      <td>Generation X</td>\n    </tr>\n    <tr>\n      <th>3</th>\n      <td>Albania</td>\n      <td>1987</td>\n      <td>male</td>\n      <td>75+ years</td>\n      <td>1</td>\n      <td>21800</td>\n      <td>4.59</td>\n      <td>Albania1987</td>\n      <td>NaN</td>\n      <td>2,156,624,900</td>\n      <td>796</td>\n      <td>G.I. Generation</td>\n    </tr>\n    <tr>\n      <th>4</th>\n      <td>Albania</td>\n      <td>1987</td>\n      <td>male</td>\n      <td>25-34 years</td>\n      <td>9</td>\n      <td>274300</td>\n      <td>3.28</td>\n      <td>Albania1987</td>\n      <td>NaN</td>\n      <td>2,156,624,900</td>\n      <td>796</td>\n      <td>Boomers</td>\n    </tr>\n    <tr>\n      <th>...</th>\n      <td>...</td>\n      <td>...</td>\n      <td>...</td>\n      <td>...</td>\n      <td>...</td>\n      <td>...</td>\n      <td>...</td>\n      <td>...</td>\n      <td>...</td>\n      <td>...</td>\n      <td>...</td>\n      <td>...</td>\n    </tr>\n    <tr>\n      <th>27815</th>\n      <td>Uzbekistan</td>\n      <td>2014</td>\n      <td>female</td>\n      <td>35-54 years</td>\n      <td>107</td>\n      <td>3620833</td>\n      <td>2.96</td>\n      <td>Uzbekistan2014</td>\n      <td>0.675</td>\n      <td>63,067,077,179</td>\n      <td>2309</td>\n      <td>Generation X</td>\n    </tr>\n    <tr>\n      <th>27816</th>\n      <td>Uzbekistan</td>\n      <td>2014</td>\n      <td>female</td>\n      <td>75+ years</td>\n      <td>9</td>\n      <td>348465</td>\n      <td>2.58</td>\n      <td>Uzbekistan2014</td>\n      <td>0.675</td>\n      <td>63,067,077,179</td>\n      <td>2309</td>\n      <td>Silent</td>\n    </tr>\n    <tr>\n      <th>27817</th>\n      <td>Uzbekistan</td>\n      <td>2014</td>\n      <td>male</td>\n      <td>5-14 years</td>\n      <td>60</td>\n      <td>2762158</td>\n      <td>2.17</td>\n      <td>Uzbekistan2014</td>\n      <td>0.675</td>\n      <td>63,067,077,179</td>\n      <td>2309</td>\n      <td>Generation Z</td>\n    </tr>\n    <tr>\n      <th>27818</th>\n      <td>Uzbekistan</td>\n      <td>2014</td>\n      <td>female</td>\n      <td>5-14 years</td>\n      <td>44</td>\n      <td>2631600</td>\n      <td>1.67</td>\n      <td>Uzbekistan2014</td>\n      <td>0.675</td>\n      <td>63,067,077,179</td>\n      <td>2309</td>\n      <td>Generation Z</td>\n    </tr>\n    <tr>\n      <th>27819</th>\n      <td>Uzbekistan</td>\n      <td>2014</td>\n      <td>female</td>\n      <td>55-74 years</td>\n      <td>21</td>\n      <td>1438935</td>\n      <td>1.46</td>\n      <td>Uzbekistan2014</td>\n      <td>0.675</td>\n      <td>63,067,077,179</td>\n      <td>2309</td>\n      <td>Boomers</td>\n    </tr>\n  </tbody>\n</table>\n<p>27820 rows × 12 columns</p>\n</div>"
     },
     "execution_count": 789,
     "metadata": {},
     "output_type": "execute_result"
    }
   ],
   "source": [
    "df = pd.read_csv('master.csv')\n",
    "df"
   ],
   "metadata": {
    "collapsed": false,
    "ExecuteTime": {
     "end_time": "2024-09-28T18:20:15.122749800Z",
     "start_time": "2024-09-28T18:20:14.729909600Z"
    }
   },
   "id": "1e6ec818c5006a4d"
  },
  {
   "cell_type": "code",
   "execution_count": 790,
   "outputs": [],
   "source": [
    "#df = df[df['country'] == 'Uzbekistan']\n",
    "# df"
   ],
   "metadata": {
    "collapsed": false,
    "ExecuteTime": {
     "end_time": "2024-09-28T18:20:15.124767800Z",
     "start_time": "2024-09-28T18:20:14.791417200Z"
    }
   },
   "id": "92910f18a03d8b31"
  },
  {
   "cell_type": "markdown",
   "source": [
    "## Препроцессинг"
   ],
   "metadata": {
    "collapsed": false
   },
   "id": "f1cbcce20405a41"
  },
  {
   "cell_type": "markdown",
   "source": [
    "### Дроп не влияющих показателей"
   ],
   "metadata": {
    "collapsed": false
   },
   "id": "8ca403f93ac4b696"
  },
  {
   "cell_type": "code",
   "execution_count": 791,
   "outputs": [
    {
     "data": {
      "text/plain": "       year     sex          age  suicides_no  population  suicides/100k pop  \\\n0      1987    male  15-24 years           21      312900               6.71   \n1      1987    male  35-54 years           16      308000               5.19   \n2      1987  female  15-24 years           14      289700               4.83   \n3      1987    male    75+ years            1       21800               4.59   \n4      1987    male  25-34 years            9      274300               3.28   \n...     ...     ...          ...          ...         ...                ...   \n27815  2014  female  35-54 years          107     3620833               2.96   \n27816  2014  female    75+ years            9      348465               2.58   \n27817  2014    male   5-14 years           60     2762158               2.17   \n27818  2014  female   5-14 years           44     2631600               1.67   \n27819  2014  female  55-74 years           21     1438935               1.46   \n\n         gdp_for_year  gdp_per_capita       generation  \n0       2,156,624,900             796     Generation X  \n1       2,156,624,900             796           Silent  \n2       2,156,624,900             796     Generation X  \n3       2,156,624,900             796  G.I. Generation  \n4       2,156,624,900             796          Boomers  \n...               ...             ...              ...  \n27815  63,067,077,179            2309     Generation X  \n27816  63,067,077,179            2309           Silent  \n27817  63,067,077,179            2309     Generation Z  \n27818  63,067,077,179            2309     Generation Z  \n27819  63,067,077,179            2309          Boomers  \n\n[27820 rows x 9 columns]",
      "text/html": "<div>\n<style scoped>\n    .dataframe tbody tr th:only-of-type {\n        vertical-align: middle;\n    }\n\n    .dataframe tbody tr th {\n        vertical-align: top;\n    }\n\n    .dataframe thead th {\n        text-align: right;\n    }\n</style>\n<table border=\"1\" class=\"dataframe\">\n  <thead>\n    <tr style=\"text-align: right;\">\n      <th></th>\n      <th>year</th>\n      <th>sex</th>\n      <th>age</th>\n      <th>suicides_no</th>\n      <th>population</th>\n      <th>suicides/100k pop</th>\n      <th>gdp_for_year</th>\n      <th>gdp_per_capita</th>\n      <th>generation</th>\n    </tr>\n  </thead>\n  <tbody>\n    <tr>\n      <th>0</th>\n      <td>1987</td>\n      <td>male</td>\n      <td>15-24 years</td>\n      <td>21</td>\n      <td>312900</td>\n      <td>6.71</td>\n      <td>2,156,624,900</td>\n      <td>796</td>\n      <td>Generation X</td>\n    </tr>\n    <tr>\n      <th>1</th>\n      <td>1987</td>\n      <td>male</td>\n      <td>35-54 years</td>\n      <td>16</td>\n      <td>308000</td>\n      <td>5.19</td>\n      <td>2,156,624,900</td>\n      <td>796</td>\n      <td>Silent</td>\n    </tr>\n    <tr>\n      <th>2</th>\n      <td>1987</td>\n      <td>female</td>\n      <td>15-24 years</td>\n      <td>14</td>\n      <td>289700</td>\n      <td>4.83</td>\n      <td>2,156,624,900</td>\n      <td>796</td>\n      <td>Generation X</td>\n    </tr>\n    <tr>\n      <th>3</th>\n      <td>1987</td>\n      <td>male</td>\n      <td>75+ years</td>\n      <td>1</td>\n      <td>21800</td>\n      <td>4.59</td>\n      <td>2,156,624,900</td>\n      <td>796</td>\n      <td>G.I. Generation</td>\n    </tr>\n    <tr>\n      <th>4</th>\n      <td>1987</td>\n      <td>male</td>\n      <td>25-34 years</td>\n      <td>9</td>\n      <td>274300</td>\n      <td>3.28</td>\n      <td>2,156,624,900</td>\n      <td>796</td>\n      <td>Boomers</td>\n    </tr>\n    <tr>\n      <th>...</th>\n      <td>...</td>\n      <td>...</td>\n      <td>...</td>\n      <td>...</td>\n      <td>...</td>\n      <td>...</td>\n      <td>...</td>\n      <td>...</td>\n      <td>...</td>\n    </tr>\n    <tr>\n      <th>27815</th>\n      <td>2014</td>\n      <td>female</td>\n      <td>35-54 years</td>\n      <td>107</td>\n      <td>3620833</td>\n      <td>2.96</td>\n      <td>63,067,077,179</td>\n      <td>2309</td>\n      <td>Generation X</td>\n    </tr>\n    <tr>\n      <th>27816</th>\n      <td>2014</td>\n      <td>female</td>\n      <td>75+ years</td>\n      <td>9</td>\n      <td>348465</td>\n      <td>2.58</td>\n      <td>63,067,077,179</td>\n      <td>2309</td>\n      <td>Silent</td>\n    </tr>\n    <tr>\n      <th>27817</th>\n      <td>2014</td>\n      <td>male</td>\n      <td>5-14 years</td>\n      <td>60</td>\n      <td>2762158</td>\n      <td>2.17</td>\n      <td>63,067,077,179</td>\n      <td>2309</td>\n      <td>Generation Z</td>\n    </tr>\n    <tr>\n      <th>27818</th>\n      <td>2014</td>\n      <td>female</td>\n      <td>5-14 years</td>\n      <td>44</td>\n      <td>2631600</td>\n      <td>1.67</td>\n      <td>63,067,077,179</td>\n      <td>2309</td>\n      <td>Generation Z</td>\n    </tr>\n    <tr>\n      <th>27819</th>\n      <td>2014</td>\n      <td>female</td>\n      <td>55-74 years</td>\n      <td>21</td>\n      <td>1438935</td>\n      <td>1.46</td>\n      <td>63,067,077,179</td>\n      <td>2309</td>\n      <td>Boomers</td>\n    </tr>\n  </tbody>\n</table>\n<p>27820 rows × 9 columns</p>\n</div>"
     },
     "execution_count": 791,
     "metadata": {},
     "output_type": "execute_result"
    }
   ],
   "source": [
    "df.drop(['country', 'HDI for year', 'country-year'], axis=1, inplace=True)\n",
    "df.columns = df.columns.str.strip()\n",
    "df"
   ],
   "metadata": {
    "collapsed": false,
    "ExecuteTime": {
     "end_time": "2024-09-28T18:20:15.136040100Z",
     "start_time": "2024-09-28T18:20:14.796945400Z"
    }
   },
   "id": "31ba2ba0957a6585"
  },
  {
   "cell_type": "markdown",
   "source": [
    "## Замена запятой на пустоту, для преобразования в инт"
   ],
   "metadata": {
    "collapsed": false
   },
   "id": "8365e7250a616181"
  },
  {
   "cell_type": "code",
   "execution_count": 792,
   "outputs": [
    {
     "data": {
      "text/plain": "       year     sex          age  suicides_no  population  suicides/100k pop  \\\n0      1987    male  15-24 years           21      312900               6.71   \n1      1987    male  35-54 years           16      308000               5.19   \n2      1987  female  15-24 years           14      289700               4.83   \n3      1987    male    75+ years            1       21800               4.59   \n4      1987    male  25-34 years            9      274300               3.28   \n...     ...     ...          ...          ...         ...                ...   \n27815  2014  female  35-54 years          107     3620833               2.96   \n27816  2014  female    75+ years            9      348465               2.58   \n27817  2014    male   5-14 years           60     2762158               2.17   \n27818  2014  female   5-14 years           44     2631600               1.67   \n27819  2014  female  55-74 years           21     1438935               1.46   \n\n      gdp_for_year  gdp_per_capita       generation  \n0       2156624900             796     Generation X  \n1       2156624900             796           Silent  \n2       2156624900             796     Generation X  \n3       2156624900             796  G.I. Generation  \n4       2156624900             796          Boomers  \n...            ...             ...              ...  \n27815  63067077179            2309     Generation X  \n27816  63067077179            2309           Silent  \n27817  63067077179            2309     Generation Z  \n27818  63067077179            2309     Generation Z  \n27819  63067077179            2309          Boomers  \n\n[27820 rows x 9 columns]",
      "text/html": "<div>\n<style scoped>\n    .dataframe tbody tr th:only-of-type {\n        vertical-align: middle;\n    }\n\n    .dataframe tbody tr th {\n        vertical-align: top;\n    }\n\n    .dataframe thead th {\n        text-align: right;\n    }\n</style>\n<table border=\"1\" class=\"dataframe\">\n  <thead>\n    <tr style=\"text-align: right;\">\n      <th></th>\n      <th>year</th>\n      <th>sex</th>\n      <th>age</th>\n      <th>suicides_no</th>\n      <th>population</th>\n      <th>suicides/100k pop</th>\n      <th>gdp_for_year</th>\n      <th>gdp_per_capita</th>\n      <th>generation</th>\n    </tr>\n  </thead>\n  <tbody>\n    <tr>\n      <th>0</th>\n      <td>1987</td>\n      <td>male</td>\n      <td>15-24 years</td>\n      <td>21</td>\n      <td>312900</td>\n      <td>6.71</td>\n      <td>2156624900</td>\n      <td>796</td>\n      <td>Generation X</td>\n    </tr>\n    <tr>\n      <th>1</th>\n      <td>1987</td>\n      <td>male</td>\n      <td>35-54 years</td>\n      <td>16</td>\n      <td>308000</td>\n      <td>5.19</td>\n      <td>2156624900</td>\n      <td>796</td>\n      <td>Silent</td>\n    </tr>\n    <tr>\n      <th>2</th>\n      <td>1987</td>\n      <td>female</td>\n      <td>15-24 years</td>\n      <td>14</td>\n      <td>289700</td>\n      <td>4.83</td>\n      <td>2156624900</td>\n      <td>796</td>\n      <td>Generation X</td>\n    </tr>\n    <tr>\n      <th>3</th>\n      <td>1987</td>\n      <td>male</td>\n      <td>75+ years</td>\n      <td>1</td>\n      <td>21800</td>\n      <td>4.59</td>\n      <td>2156624900</td>\n      <td>796</td>\n      <td>G.I. Generation</td>\n    </tr>\n    <tr>\n      <th>4</th>\n      <td>1987</td>\n      <td>male</td>\n      <td>25-34 years</td>\n      <td>9</td>\n      <td>274300</td>\n      <td>3.28</td>\n      <td>2156624900</td>\n      <td>796</td>\n      <td>Boomers</td>\n    </tr>\n    <tr>\n      <th>...</th>\n      <td>...</td>\n      <td>...</td>\n      <td>...</td>\n      <td>...</td>\n      <td>...</td>\n      <td>...</td>\n      <td>...</td>\n      <td>...</td>\n      <td>...</td>\n    </tr>\n    <tr>\n      <th>27815</th>\n      <td>2014</td>\n      <td>female</td>\n      <td>35-54 years</td>\n      <td>107</td>\n      <td>3620833</td>\n      <td>2.96</td>\n      <td>63067077179</td>\n      <td>2309</td>\n      <td>Generation X</td>\n    </tr>\n    <tr>\n      <th>27816</th>\n      <td>2014</td>\n      <td>female</td>\n      <td>75+ years</td>\n      <td>9</td>\n      <td>348465</td>\n      <td>2.58</td>\n      <td>63067077179</td>\n      <td>2309</td>\n      <td>Silent</td>\n    </tr>\n    <tr>\n      <th>27817</th>\n      <td>2014</td>\n      <td>male</td>\n      <td>5-14 years</td>\n      <td>60</td>\n      <td>2762158</td>\n      <td>2.17</td>\n      <td>63067077179</td>\n      <td>2309</td>\n      <td>Generation Z</td>\n    </tr>\n    <tr>\n      <th>27818</th>\n      <td>2014</td>\n      <td>female</td>\n      <td>5-14 years</td>\n      <td>44</td>\n      <td>2631600</td>\n      <td>1.67</td>\n      <td>63067077179</td>\n      <td>2309</td>\n      <td>Generation Z</td>\n    </tr>\n    <tr>\n      <th>27819</th>\n      <td>2014</td>\n      <td>female</td>\n      <td>55-74 years</td>\n      <td>21</td>\n      <td>1438935</td>\n      <td>1.46</td>\n      <td>63067077179</td>\n      <td>2309</td>\n      <td>Boomers</td>\n    </tr>\n  </tbody>\n</table>\n<p>27820 rows × 9 columns</p>\n</div>"
     },
     "execution_count": 792,
     "metadata": {},
     "output_type": "execute_result"
    }
   ],
   "source": [
    "df['gdp_for_year'].replace(',', '', inplace=True, regex=True)\n",
    "df['gdp_for_year'].apply(lambda x: int(x))\n",
    "df"
   ],
   "metadata": {
    "collapsed": false,
    "ExecuteTime": {
     "end_time": "2024-09-28T18:20:15.166787400Z",
     "start_time": "2024-09-28T18:20:14.814525900Z"
    }
   },
   "id": "b44fe1ff206bbe73"
  },
  {
   "cell_type": "markdown",
   "source": [
    "## Кодирование пола"
   ],
   "metadata": {
    "collapsed": false
   },
   "id": "673a2d30f2d4d5fd"
  },
  {
   "cell_type": "code",
   "execution_count": 793,
   "outputs": [
    {
     "data": {
      "text/plain": "       year  sex          age  suicides_no  population  suicides/100k pop  \\\n0      1987    1  15-24 years           21      312900               6.71   \n1      1987    1  35-54 years           16      308000               5.19   \n2      1987    0  15-24 years           14      289700               4.83   \n3      1987    1    75+ years            1       21800               4.59   \n4      1987    1  25-34 years            9      274300               3.28   \n...     ...  ...          ...          ...         ...                ...   \n27815  2014    0  35-54 years          107     3620833               2.96   \n27816  2014    0    75+ years            9      348465               2.58   \n27817  2014    1   5-14 years           60     2762158               2.17   \n27818  2014    0   5-14 years           44     2631600               1.67   \n27819  2014    0  55-74 years           21     1438935               1.46   \n\n      gdp_for_year  gdp_per_capita       generation  \n0       2156624900             796     Generation X  \n1       2156624900             796           Silent  \n2       2156624900             796     Generation X  \n3       2156624900             796  G.I. Generation  \n4       2156624900             796          Boomers  \n...            ...             ...              ...  \n27815  63067077179            2309     Generation X  \n27816  63067077179            2309           Silent  \n27817  63067077179            2309     Generation Z  \n27818  63067077179            2309     Generation Z  \n27819  63067077179            2309          Boomers  \n\n[27820 rows x 9 columns]",
      "text/html": "<div>\n<style scoped>\n    .dataframe tbody tr th:only-of-type {\n        vertical-align: middle;\n    }\n\n    .dataframe tbody tr th {\n        vertical-align: top;\n    }\n\n    .dataframe thead th {\n        text-align: right;\n    }\n</style>\n<table border=\"1\" class=\"dataframe\">\n  <thead>\n    <tr style=\"text-align: right;\">\n      <th></th>\n      <th>year</th>\n      <th>sex</th>\n      <th>age</th>\n      <th>suicides_no</th>\n      <th>population</th>\n      <th>suicides/100k pop</th>\n      <th>gdp_for_year</th>\n      <th>gdp_per_capita</th>\n      <th>generation</th>\n    </tr>\n  </thead>\n  <tbody>\n    <tr>\n      <th>0</th>\n      <td>1987</td>\n      <td>1</td>\n      <td>15-24 years</td>\n      <td>21</td>\n      <td>312900</td>\n      <td>6.71</td>\n      <td>2156624900</td>\n      <td>796</td>\n      <td>Generation X</td>\n    </tr>\n    <tr>\n      <th>1</th>\n      <td>1987</td>\n      <td>1</td>\n      <td>35-54 years</td>\n      <td>16</td>\n      <td>308000</td>\n      <td>5.19</td>\n      <td>2156624900</td>\n      <td>796</td>\n      <td>Silent</td>\n    </tr>\n    <tr>\n      <th>2</th>\n      <td>1987</td>\n      <td>0</td>\n      <td>15-24 years</td>\n      <td>14</td>\n      <td>289700</td>\n      <td>4.83</td>\n      <td>2156624900</td>\n      <td>796</td>\n      <td>Generation X</td>\n    </tr>\n    <tr>\n      <th>3</th>\n      <td>1987</td>\n      <td>1</td>\n      <td>75+ years</td>\n      <td>1</td>\n      <td>21800</td>\n      <td>4.59</td>\n      <td>2156624900</td>\n      <td>796</td>\n      <td>G.I. Generation</td>\n    </tr>\n    <tr>\n      <th>4</th>\n      <td>1987</td>\n      <td>1</td>\n      <td>25-34 years</td>\n      <td>9</td>\n      <td>274300</td>\n      <td>3.28</td>\n      <td>2156624900</td>\n      <td>796</td>\n      <td>Boomers</td>\n    </tr>\n    <tr>\n      <th>...</th>\n      <td>...</td>\n      <td>...</td>\n      <td>...</td>\n      <td>...</td>\n      <td>...</td>\n      <td>...</td>\n      <td>...</td>\n      <td>...</td>\n      <td>...</td>\n    </tr>\n    <tr>\n      <th>27815</th>\n      <td>2014</td>\n      <td>0</td>\n      <td>35-54 years</td>\n      <td>107</td>\n      <td>3620833</td>\n      <td>2.96</td>\n      <td>63067077179</td>\n      <td>2309</td>\n      <td>Generation X</td>\n    </tr>\n    <tr>\n      <th>27816</th>\n      <td>2014</td>\n      <td>0</td>\n      <td>75+ years</td>\n      <td>9</td>\n      <td>348465</td>\n      <td>2.58</td>\n      <td>63067077179</td>\n      <td>2309</td>\n      <td>Silent</td>\n    </tr>\n    <tr>\n      <th>27817</th>\n      <td>2014</td>\n      <td>1</td>\n      <td>5-14 years</td>\n      <td>60</td>\n      <td>2762158</td>\n      <td>2.17</td>\n      <td>63067077179</td>\n      <td>2309</td>\n      <td>Generation Z</td>\n    </tr>\n    <tr>\n      <th>27818</th>\n      <td>2014</td>\n      <td>0</td>\n      <td>5-14 years</td>\n      <td>44</td>\n      <td>2631600</td>\n      <td>1.67</td>\n      <td>63067077179</td>\n      <td>2309</td>\n      <td>Generation Z</td>\n    </tr>\n    <tr>\n      <th>27819</th>\n      <td>2014</td>\n      <td>0</td>\n      <td>55-74 years</td>\n      <td>21</td>\n      <td>1438935</td>\n      <td>1.46</td>\n      <td>63067077179</td>\n      <td>2309</td>\n      <td>Boomers</td>\n    </tr>\n  </tbody>\n</table>\n<p>27820 rows × 9 columns</p>\n</div>"
     },
     "execution_count": 793,
     "metadata": {},
     "output_type": "execute_result"
    }
   ],
   "source": [
    "encoder = LabelEncoder()\n",
    "df['sex'] = encoder.fit_transform(df['sex'])\n",
    "df"
   ],
   "metadata": {
    "collapsed": false,
    "ExecuteTime": {
     "end_time": "2024-09-28T18:20:15.193951700Z",
     "start_time": "2024-09-28T18:20:14.886459200Z"
    }
   },
   "id": "e4ea96b295f7ced9"
  },
  {
   "cell_type": "markdown",
   "source": [
    "## Энкод данных возраста и поколения"
   ],
   "metadata": {
    "collapsed": false
   },
   "id": "b7cf543730a69c39"
  },
  {
   "cell_type": "code",
   "execution_count": 794,
   "outputs": [
    {
     "data": {
      "text/plain": "array(['15-24 years', '35-54 years', '75+ years', '25-34 years',\n       '55-74 years', '5-14 years'], dtype=object)"
     },
     "execution_count": 794,
     "metadata": {},
     "output_type": "execute_result"
    }
   ],
   "source": [
    "df.age.unique()"
   ],
   "metadata": {
    "collapsed": false,
    "ExecuteTime": {
     "end_time": "2024-09-28T18:20:15.208810800Z",
     "start_time": "2024-09-28T18:20:14.909402900Z"
    }
   },
   "id": "bf70e8e60436f690"
  },
  {
   "cell_type": "code",
   "execution_count": 795,
   "outputs": [
    {
     "data": {
      "text/plain": "       year  sex  age  suicides_no  population  suicides/100k pop  \\\n0      1987    1    1           21      312900               6.71   \n1      1987    1    3           16      308000               5.19   \n2      1987    0    1           14      289700               4.83   \n3      1987    1    5            1       21800               4.59   \n4      1987    1    2            9      274300               3.28   \n...     ...  ...  ...          ...         ...                ...   \n27815  2014    0    3          107     3620833               2.96   \n27816  2014    0    5            9      348465               2.58   \n27817  2014    1    0           60     2762158               2.17   \n27818  2014    0    0           44     2631600               1.67   \n27819  2014    0    4           21     1438935               1.46   \n\n      gdp_for_year  gdp_per_capita       generation  \n0       2156624900             796     Generation X  \n1       2156624900             796           Silent  \n2       2156624900             796     Generation X  \n3       2156624900             796  G.I. Generation  \n4       2156624900             796          Boomers  \n...            ...             ...              ...  \n27815  63067077179            2309     Generation X  \n27816  63067077179            2309           Silent  \n27817  63067077179            2309     Generation Z  \n27818  63067077179            2309     Generation Z  \n27819  63067077179            2309          Boomers  \n\n[27820 rows x 9 columns]",
      "text/html": "<div>\n<style scoped>\n    .dataframe tbody tr th:only-of-type {\n        vertical-align: middle;\n    }\n\n    .dataframe tbody tr th {\n        vertical-align: top;\n    }\n\n    .dataframe thead th {\n        text-align: right;\n    }\n</style>\n<table border=\"1\" class=\"dataframe\">\n  <thead>\n    <tr style=\"text-align: right;\">\n      <th></th>\n      <th>year</th>\n      <th>sex</th>\n      <th>age</th>\n      <th>suicides_no</th>\n      <th>population</th>\n      <th>suicides/100k pop</th>\n      <th>gdp_for_year</th>\n      <th>gdp_per_capita</th>\n      <th>generation</th>\n    </tr>\n  </thead>\n  <tbody>\n    <tr>\n      <th>0</th>\n      <td>1987</td>\n      <td>1</td>\n      <td>1</td>\n      <td>21</td>\n      <td>312900</td>\n      <td>6.71</td>\n      <td>2156624900</td>\n      <td>796</td>\n      <td>Generation X</td>\n    </tr>\n    <tr>\n      <th>1</th>\n      <td>1987</td>\n      <td>1</td>\n      <td>3</td>\n      <td>16</td>\n      <td>308000</td>\n      <td>5.19</td>\n      <td>2156624900</td>\n      <td>796</td>\n      <td>Silent</td>\n    </tr>\n    <tr>\n      <th>2</th>\n      <td>1987</td>\n      <td>0</td>\n      <td>1</td>\n      <td>14</td>\n      <td>289700</td>\n      <td>4.83</td>\n      <td>2156624900</td>\n      <td>796</td>\n      <td>Generation X</td>\n    </tr>\n    <tr>\n      <th>3</th>\n      <td>1987</td>\n      <td>1</td>\n      <td>5</td>\n      <td>1</td>\n      <td>21800</td>\n      <td>4.59</td>\n      <td>2156624900</td>\n      <td>796</td>\n      <td>G.I. Generation</td>\n    </tr>\n    <tr>\n      <th>4</th>\n      <td>1987</td>\n      <td>1</td>\n      <td>2</td>\n      <td>9</td>\n      <td>274300</td>\n      <td>3.28</td>\n      <td>2156624900</td>\n      <td>796</td>\n      <td>Boomers</td>\n    </tr>\n    <tr>\n      <th>...</th>\n      <td>...</td>\n      <td>...</td>\n      <td>...</td>\n      <td>...</td>\n      <td>...</td>\n      <td>...</td>\n      <td>...</td>\n      <td>...</td>\n      <td>...</td>\n    </tr>\n    <tr>\n      <th>27815</th>\n      <td>2014</td>\n      <td>0</td>\n      <td>3</td>\n      <td>107</td>\n      <td>3620833</td>\n      <td>2.96</td>\n      <td>63067077179</td>\n      <td>2309</td>\n      <td>Generation X</td>\n    </tr>\n    <tr>\n      <th>27816</th>\n      <td>2014</td>\n      <td>0</td>\n      <td>5</td>\n      <td>9</td>\n      <td>348465</td>\n      <td>2.58</td>\n      <td>63067077179</td>\n      <td>2309</td>\n      <td>Silent</td>\n    </tr>\n    <tr>\n      <th>27817</th>\n      <td>2014</td>\n      <td>1</td>\n      <td>0</td>\n      <td>60</td>\n      <td>2762158</td>\n      <td>2.17</td>\n      <td>63067077179</td>\n      <td>2309</td>\n      <td>Generation Z</td>\n    </tr>\n    <tr>\n      <th>27818</th>\n      <td>2014</td>\n      <td>0</td>\n      <td>0</td>\n      <td>44</td>\n      <td>2631600</td>\n      <td>1.67</td>\n      <td>63067077179</td>\n      <td>2309</td>\n      <td>Generation Z</td>\n    </tr>\n    <tr>\n      <th>27819</th>\n      <td>2014</td>\n      <td>0</td>\n      <td>4</td>\n      <td>21</td>\n      <td>1438935</td>\n      <td>1.46</td>\n      <td>63067077179</td>\n      <td>2309</td>\n      <td>Boomers</td>\n    </tr>\n  </tbody>\n</table>\n<p>27820 rows × 9 columns</p>\n</div>"
     },
     "execution_count": 795,
     "metadata": {},
     "output_type": "execute_result"
    }
   ],
   "source": [
    "encoded_age = {\n",
    "    '5-14 years': 0,\n",
    "    '15-24 years': 1,\n",
    "    '25-34 years': 2,\n",
    "    '35-54 years': 3,\n",
    "    '55-74 years': 4,\n",
    "    '75+ years': 5,\n",
    "}\n",
    "\n",
    "df['age'] = df['age'].apply(lambda x: encoded_age[x])\n",
    "\n",
    "df"
   ],
   "metadata": {
    "collapsed": false,
    "ExecuteTime": {
     "end_time": "2024-09-28T18:20:15.211307Z",
     "start_time": "2024-09-28T18:20:14.918001Z"
    }
   },
   "id": "edfa155883a94f81"
  },
  {
   "cell_type": "code",
   "execution_count": 796,
   "outputs": [
    {
     "data": {
      "text/plain": "array(['Generation X', 'Silent', 'G.I. Generation', 'Boomers',\n       'Millenials', 'Generation Z'], dtype=object)"
     },
     "execution_count": 796,
     "metadata": {},
     "output_type": "execute_result"
    }
   ],
   "source": [
    "df.generation.unique()"
   ],
   "metadata": {
    "collapsed": false,
    "ExecuteTime": {
     "end_time": "2024-09-28T18:20:15.212453800Z",
     "start_time": "2024-09-28T18:20:14.945274800Z"
    }
   },
   "id": "e924e8189aeadd17"
  },
  {
   "cell_type": "code",
   "execution_count": 797,
   "outputs": [
    {
     "data": {
      "text/plain": "       year  sex  age  suicides_no  population  suicides/100k pop  \\\n0      1987    1    1           21      312900               6.71   \n1      1987    1    3           16      308000               5.19   \n2      1987    0    1           14      289700               4.83   \n3      1987    1    5            1       21800               4.59   \n4      1987    1    2            9      274300               3.28   \n...     ...  ...  ...          ...         ...                ...   \n27815  2014    0    3          107     3620833               2.96   \n27816  2014    0    5            9      348465               2.58   \n27817  2014    1    0           60     2762158               2.17   \n27818  2014    0    0           44     2631600               1.67   \n27819  2014    0    4           21     1438935               1.46   \n\n      gdp_for_year  gdp_per_capita  generation  \n0       2156624900             796           3  \n1       2156624900             796           1  \n2       2156624900             796           3  \n3       2156624900             796           0  \n4       2156624900             796           2  \n...            ...             ...         ...  \n27815  63067077179            2309           3  \n27816  63067077179            2309           1  \n27817  63067077179            2309           5  \n27818  63067077179            2309           5  \n27819  63067077179            2309           2  \n\n[27820 rows x 9 columns]",
      "text/html": "<div>\n<style scoped>\n    .dataframe tbody tr th:only-of-type {\n        vertical-align: middle;\n    }\n\n    .dataframe tbody tr th {\n        vertical-align: top;\n    }\n\n    .dataframe thead th {\n        text-align: right;\n    }\n</style>\n<table border=\"1\" class=\"dataframe\">\n  <thead>\n    <tr style=\"text-align: right;\">\n      <th></th>\n      <th>year</th>\n      <th>sex</th>\n      <th>age</th>\n      <th>suicides_no</th>\n      <th>population</th>\n      <th>suicides/100k pop</th>\n      <th>gdp_for_year</th>\n      <th>gdp_per_capita</th>\n      <th>generation</th>\n    </tr>\n  </thead>\n  <tbody>\n    <tr>\n      <th>0</th>\n      <td>1987</td>\n      <td>1</td>\n      <td>1</td>\n      <td>21</td>\n      <td>312900</td>\n      <td>6.71</td>\n      <td>2156624900</td>\n      <td>796</td>\n      <td>3</td>\n    </tr>\n    <tr>\n      <th>1</th>\n      <td>1987</td>\n      <td>1</td>\n      <td>3</td>\n      <td>16</td>\n      <td>308000</td>\n      <td>5.19</td>\n      <td>2156624900</td>\n      <td>796</td>\n      <td>1</td>\n    </tr>\n    <tr>\n      <th>2</th>\n      <td>1987</td>\n      <td>0</td>\n      <td>1</td>\n      <td>14</td>\n      <td>289700</td>\n      <td>4.83</td>\n      <td>2156624900</td>\n      <td>796</td>\n      <td>3</td>\n    </tr>\n    <tr>\n      <th>3</th>\n      <td>1987</td>\n      <td>1</td>\n      <td>5</td>\n      <td>1</td>\n      <td>21800</td>\n      <td>4.59</td>\n      <td>2156624900</td>\n      <td>796</td>\n      <td>0</td>\n    </tr>\n    <tr>\n      <th>4</th>\n      <td>1987</td>\n      <td>1</td>\n      <td>2</td>\n      <td>9</td>\n      <td>274300</td>\n      <td>3.28</td>\n      <td>2156624900</td>\n      <td>796</td>\n      <td>2</td>\n    </tr>\n    <tr>\n      <th>...</th>\n      <td>...</td>\n      <td>...</td>\n      <td>...</td>\n      <td>...</td>\n      <td>...</td>\n      <td>...</td>\n      <td>...</td>\n      <td>...</td>\n      <td>...</td>\n    </tr>\n    <tr>\n      <th>27815</th>\n      <td>2014</td>\n      <td>0</td>\n      <td>3</td>\n      <td>107</td>\n      <td>3620833</td>\n      <td>2.96</td>\n      <td>63067077179</td>\n      <td>2309</td>\n      <td>3</td>\n    </tr>\n    <tr>\n      <th>27816</th>\n      <td>2014</td>\n      <td>0</td>\n      <td>5</td>\n      <td>9</td>\n      <td>348465</td>\n      <td>2.58</td>\n      <td>63067077179</td>\n      <td>2309</td>\n      <td>1</td>\n    </tr>\n    <tr>\n      <th>27817</th>\n      <td>2014</td>\n      <td>1</td>\n      <td>0</td>\n      <td>60</td>\n      <td>2762158</td>\n      <td>2.17</td>\n      <td>63067077179</td>\n      <td>2309</td>\n      <td>5</td>\n    </tr>\n    <tr>\n      <th>27818</th>\n      <td>2014</td>\n      <td>0</td>\n      <td>0</td>\n      <td>44</td>\n      <td>2631600</td>\n      <td>1.67</td>\n      <td>63067077179</td>\n      <td>2309</td>\n      <td>5</td>\n    </tr>\n    <tr>\n      <th>27819</th>\n      <td>2014</td>\n      <td>0</td>\n      <td>4</td>\n      <td>21</td>\n      <td>1438935</td>\n      <td>1.46</td>\n      <td>63067077179</td>\n      <td>2309</td>\n      <td>2</td>\n    </tr>\n  </tbody>\n</table>\n<p>27820 rows × 9 columns</p>\n</div>"
     },
     "execution_count": 797,
     "metadata": {},
     "output_type": "execute_result"
    }
   ],
   "source": [
    "encoded_generation = {\n",
    "    'G.I. Generation': 0,   \n",
    "    'Silent': 1,            \n",
    "    'Boomers': 2,           \n",
    "    'Generation X': 3,     \n",
    "    'Millenials': 4,       \n",
    "    'Generation Z': 5     \n",
    "}\n",
    "\n",
    "df['generation'] = df['generation'].apply(lambda x: encoded_generation[x])\n",
    "df"
   ],
   "metadata": {
    "collapsed": false,
    "ExecuteTime": {
     "end_time": "2024-09-28T18:20:15.212453800Z",
     "start_time": "2024-09-28T18:20:14.951298700Z"
    }
   },
   "id": "f7df1ee4e1bd3c59"
  },
  {
   "cell_type": "markdown",
   "source": [
    "## Скейл данных"
   ],
   "metadata": {
    "collapsed": false
   },
   "id": "59a4e51521a6bd63"
  },
  {
   "cell_type": "code",
   "execution_count": 798,
   "outputs": [],
   "source": [
    "Min_Max_scaler = MinMaxScaler()\n",
    "std_scaler = StandardScaler()\n",
    "df['population'] = std_scaler.fit_transform(df[['population']])\n",
    "df['year'] = Min_Max_scaler.fit_transform(df[['year']])\n",
    "df['gdp_for_year'] = std_scaler.fit_transform(df[['gdp_for_year']])\n",
    "df['gdp_per_capita'] = std_scaler.fit_transform(df[['gdp_per_capita']])\n"
   ],
   "metadata": {
    "collapsed": false,
    "ExecuteTime": {
     "end_time": "2024-09-28T18:20:15.212453800Z",
     "start_time": "2024-09-28T18:20:14.974438800Z"
    }
   },
   "id": "6a3013626ddbbe20"
  },
  {
   "cell_type": "markdown",
   "source": [
    "## Убираем строки где показатель суицида равен 0, так как скорее всего в этих странах просто не было подсчёта"
   ],
   "metadata": {
    "collapsed": false
   },
   "id": "3bd65521a08eaf02"
  },
  {
   "cell_type": "code",
   "execution_count": 799,
   "outputs": [],
   "source": [
    "df = df[df['suicides_no'] != 0]"
   ],
   "metadata": {
    "collapsed": false,
    "ExecuteTime": {
     "end_time": "2024-09-28T18:20:15.212453800Z",
     "start_time": "2024-09-28T18:20:15.002823700Z"
    }
   },
   "id": "91a3417a41ba18c"
  },
  {
   "cell_type": "markdown",
   "source": [
    "## Статистика для df для нахождения выбросов"
   ],
   "metadata": {
    "collapsed": false
   },
   "id": "ae87c89d1de6a028"
  },
  {
   "cell_type": "code",
   "execution_count": 800,
   "outputs": [
    {
     "data": {
      "text/plain": "               year           sex           age   suicides_no    population  \\\ncount  23539.000000  23539.000000  23539.000000  23539.000000  23539.000000   \nmean       0.525489      0.521942      2.560049    286.691023      0.080938   \nstd        0.272786      0.499529      1.641192    974.183210      1.066537   \nmin        0.000000      0.000000      0.000000      1.000000     -0.471381   \n25%        0.322581      0.000000      1.000000      8.000000     -0.410580   \n50%        0.548387      1.000000      3.000000     42.000000     -0.321180   \n75%        0.774194      1.000000      4.000000    175.000000      0.067183   \nmax        1.000000      1.000000      5.000000  22338.000000     10.726876   \n\n       suicides/100k pop  gdp_for_year  gdp_per_capita    generation  \ncount       23539.000000  23539.000000    23539.000000  23539.000000  \nmean           15.146940      0.052590        0.019232      2.345724  \nstd            19.738891      1.078612        1.011656      1.381611  \nmin             0.020000     -0.306507       -0.879719      0.000000  \n25%             2.780000     -0.295554       -0.718658      1.000000  \n50%             8.260000     -0.254106       -0.381181      2.000000  \n75%            19.560000     -0.084110        0.469552      3.000000  \nmax           224.970000     12.159693        5.796800      5.000000  ",
      "text/html": "<div>\n<style scoped>\n    .dataframe tbody tr th:only-of-type {\n        vertical-align: middle;\n    }\n\n    .dataframe tbody tr th {\n        vertical-align: top;\n    }\n\n    .dataframe thead th {\n        text-align: right;\n    }\n</style>\n<table border=\"1\" class=\"dataframe\">\n  <thead>\n    <tr style=\"text-align: right;\">\n      <th></th>\n      <th>year</th>\n      <th>sex</th>\n      <th>age</th>\n      <th>suicides_no</th>\n      <th>population</th>\n      <th>suicides/100k pop</th>\n      <th>gdp_for_year</th>\n      <th>gdp_per_capita</th>\n      <th>generation</th>\n    </tr>\n  </thead>\n  <tbody>\n    <tr>\n      <th>count</th>\n      <td>23539.000000</td>\n      <td>23539.000000</td>\n      <td>23539.000000</td>\n      <td>23539.000000</td>\n      <td>23539.000000</td>\n      <td>23539.000000</td>\n      <td>23539.000000</td>\n      <td>23539.000000</td>\n      <td>23539.000000</td>\n    </tr>\n    <tr>\n      <th>mean</th>\n      <td>0.525489</td>\n      <td>0.521942</td>\n      <td>2.560049</td>\n      <td>286.691023</td>\n      <td>0.080938</td>\n      <td>15.146940</td>\n      <td>0.052590</td>\n      <td>0.019232</td>\n      <td>2.345724</td>\n    </tr>\n    <tr>\n      <th>std</th>\n      <td>0.272786</td>\n      <td>0.499529</td>\n      <td>1.641192</td>\n      <td>974.183210</td>\n      <td>1.066537</td>\n      <td>19.738891</td>\n      <td>1.078612</td>\n      <td>1.011656</td>\n      <td>1.381611</td>\n    </tr>\n    <tr>\n      <th>min</th>\n      <td>0.000000</td>\n      <td>0.000000</td>\n      <td>0.000000</td>\n      <td>1.000000</td>\n      <td>-0.471381</td>\n      <td>0.020000</td>\n      <td>-0.306507</td>\n      <td>-0.879719</td>\n      <td>0.000000</td>\n    </tr>\n    <tr>\n      <th>25%</th>\n      <td>0.322581</td>\n      <td>0.000000</td>\n      <td>1.000000</td>\n      <td>8.000000</td>\n      <td>-0.410580</td>\n      <td>2.780000</td>\n      <td>-0.295554</td>\n      <td>-0.718658</td>\n      <td>1.000000</td>\n    </tr>\n    <tr>\n      <th>50%</th>\n      <td>0.548387</td>\n      <td>1.000000</td>\n      <td>3.000000</td>\n      <td>42.000000</td>\n      <td>-0.321180</td>\n      <td>8.260000</td>\n      <td>-0.254106</td>\n      <td>-0.381181</td>\n      <td>2.000000</td>\n    </tr>\n    <tr>\n      <th>75%</th>\n      <td>0.774194</td>\n      <td>1.000000</td>\n      <td>4.000000</td>\n      <td>175.000000</td>\n      <td>0.067183</td>\n      <td>19.560000</td>\n      <td>-0.084110</td>\n      <td>0.469552</td>\n      <td>3.000000</td>\n    </tr>\n    <tr>\n      <th>max</th>\n      <td>1.000000</td>\n      <td>1.000000</td>\n      <td>5.000000</td>\n      <td>22338.000000</td>\n      <td>10.726876</td>\n      <td>224.970000</td>\n      <td>12.159693</td>\n      <td>5.796800</td>\n      <td>5.000000</td>\n    </tr>\n  </tbody>\n</table>\n</div>"
     },
     "execution_count": 800,
     "metadata": {},
     "output_type": "execute_result"
    }
   ],
   "source": [
    "df.describe()"
   ],
   "metadata": {
    "collapsed": false,
    "ExecuteTime": {
     "end_time": "2024-09-28T18:20:15.213505Z",
     "start_time": "2024-09-28T18:20:15.010261500Z"
    }
   },
   "id": "9580ad502a1d2c69"
  },
  {
   "cell_type": "markdown",
   "source": [
    "## Правило трех сигм для чистки выбросов"
   ],
   "metadata": {
    "collapsed": false
   },
   "id": "b04fc931ff8d4a76"
  },
  {
   "cell_type": "code",
   "execution_count": 801,
   "outputs": [
    {
     "name": "stderr",
     "output_type": "stream",
     "text": [
      "C:\\Users\\Роман Ковалёв\\AppData\\Local\\Temp\\ipykernel_16400\\1330123936.py:1: SettingWithCopyWarning: \n",
      "A value is trying to be set on a copy of a slice from a DataFrame.\n",
      "Try using .loc[row_indexer,col_indexer] = value instead\n",
      "\n",
      "See the caveats in the documentation: https://pandas.pydata.org/pandas-docs/stable/user_guide/indexing.html#returning-a-view-versus-a-copy\n",
      "  df['zscore_suicides_no'] = stats.zscore(df['suicides_no'])\n",
      "C:\\Users\\Роман Ковалёв\\AppData\\Local\\Temp\\ipykernel_16400\\1330123936.py:2: SettingWithCopyWarning: \n",
      "A value is trying to be set on a copy of a slice from a DataFrame.\n",
      "Try using .loc[row_indexer,col_indexer] = value instead\n",
      "\n",
      "See the caveats in the documentation: https://pandas.pydata.org/pandas-docs/stable/user_guide/indexing.html#returning-a-view-versus-a-copy\n",
      "  df['zscore_suicides_per_100k'] = stats.zscore(df['suicides/100k pop'])\n"
     ]
    }
   ],
   "source": [
    "df['zscore_suicides_no'] = stats.zscore(df['suicides_no'])\n",
    "df['zscore_suicides_per_100k'] = stats.zscore(df['suicides/100k pop'])\n",
    "\n",
    "df = df[\n",
    "    (df['zscore_suicides_no'].abs() <= 3) &\n",
    "    (df['zscore_suicides_per_100k'].abs() <= 3)\n",
    "    ].drop(columns=['zscore_suicides_no', 'zscore_suicides_per_100k'])"
   ],
   "metadata": {
    "collapsed": false,
    "ExecuteTime": {
     "end_time": "2024-09-28T18:20:15.213505Z",
     "start_time": "2024-09-28T18:20:15.038301500Z"
    }
   },
   "id": "90141f7d66576849"
  },
  {
   "cell_type": "markdown",
   "source": [
    "## Матрица корреляций"
   ],
   "metadata": {
    "collapsed": false
   },
   "id": "48effb74e4eadceb"
  },
  {
   "cell_type": "code",
   "execution_count": 802,
   "outputs": [
    {
     "data": {
      "text/plain": "<Figure size 640x480 with 2 Axes>",
      "image/png": "[encoded data removed]"
     },
     "metadata": {},
     "output_type": "display_data"
    }
   ],
   "source": [
    "sns.heatmap(df.corr())\n",
    "plt.show()"
   ],
   "metadata": {
    "collapsed": false,
    "ExecuteTime": {
     "end_time": "2024-09-28T18:20:15.650546500Z",
     "start_time": "2024-09-28T18:20:15.052343500Z"
    }
   },
   "id": "92d9fb6228597edf"
  },
  {
   "cell_type": "markdown",
   "source": [
    "## Разделение на данные и ответы, а также на тренировочную и тестовую выборки"
   ],
   "metadata": {
    "collapsed": false
   },
   "id": "b0902ac26471c285"
  },
  {
   "cell_type": "code",
   "execution_count": 803,
   "outputs": [
    {
     "data": {
      "text/plain": "0        6.71\n1        5.19\n2        4.83\n3        4.59\n4        3.28\n         ... \n27815    2.96\n27816    2.58\n27817    2.17\n27818    1.67\n27819    1.46\nName: suicides/100k pop, Length: 22605, dtype: float64"
     },
     "execution_count": 803,
     "metadata": {},
     "output_type": "execute_result"
    }
   ],
   "source": [
    "y1 = df['suicides_no']\n",
    "y2 = df['suicides/100k pop']\n",
    "X = df.drop(['suicides/100k pop', 'suicides_no'], axis=1)\n",
    "y2"
   ],
   "metadata": {
    "collapsed": false,
    "ExecuteTime": {
     "end_time": "2024-09-28T18:20:15.652546700Z",
     "start_time": "2024-09-28T18:20:15.338586800Z"
    }
   },
   "id": "ebe2778704ca0bb0"
  },
  {
   "cell_type": "markdown",
   "source": [
    "## Разбиение на тест и на трейн выборки и обучение модели"
   ],
   "metadata": {
    "collapsed": false
   },
   "id": "843184f55ce1df6c"
  },
  {
   "cell_type": "code",
   "execution_count": 804,
   "outputs": [],
   "source": [
    "X_train, X_test, y_train, y_test = train_test_split(X, y1, test_size=0.2, random_state=42)"
   ],
   "metadata": {
    "collapsed": false,
    "ExecuteTime": {
     "end_time": "2024-09-28T18:20:15.654548700Z",
     "start_time": "2024-09-28T18:20:15.343529600Z"
    }
   },
   "id": "2bd94bbd608e2327"
  },
  {
   "cell_type": "code",
   "execution_count": 805,
   "outputs": [
    {
     "name": "stderr",
     "output_type": "stream",
     "text": [
      "C:\\Users\\Роман Ковалёв\\AppData\\Roaming\\Python\\Python311\\site-packages\\sklearn\\neural_network\\_multilayer_perceptron.py:690: ConvergenceWarning: Stochastic Optimizer: Maximum iterations (200) reached and the optimization hasn't converged yet.\n",
      "  warnings.warn(\n"
     ]
    },
    {
     "data": {
      "text/plain": "MLPRegressor(alpha=1, learning_rate='adaptive')",
      "text/html": "<style>#sk-container-id-50 {\n  /* Definition of color scheme common for light and dark mode */\n  --sklearn-color-text: black;\n  --sklearn-color-line: gray;\n  /* Definition of color scheme for unfitted estimators */\n  --sklearn-color-unfitted-level-0: #fff5e6;\n  --sklearn-color-unfitted-level-1: #f6e4d2;\n  --sklearn-color-unfitted-level-2: #ffe0b3;\n  --sklearn-color-unfitted-level-3: chocolate;\n  /* Definition of color scheme for fitted estimators */\n  --sklearn-color-fitted-level-0: #f0f8ff;\n  --sklearn-color-fitted-level-1: #d4ebff;\n  --sklearn-color-fitted-level-2: #b3dbfd;\n  --sklearn-color-fitted-level-3: cornflowerblue;\n\n  /* Specific color for light theme */\n  --sklearn-color-text-on-default-background: var(--sg-text-color, var(--theme-code-foreground, var(--jp-content-font-color1, black)));\n  --sklearn-color-background: var(--sg-background-color, var(--theme-background, var(--jp-layout-color0, white)));\n  --sklearn-color-border-box: var(--sg-text-color, var(--theme-code-foreground, var(--jp-content-font-color1, black)));\n  --sklearn-color-icon: #696969;\n\n  @media (prefers-color-scheme: dark) {\n    /* Redefinition of color scheme for dark theme */\n    --sklearn-color-text-on-default-background: var(--sg-text-color, var(--theme-code-foreground, var(--jp-content-font-color1, white)));\n    --sklearn-color-background: var(--sg-background-color, var(--theme-background, var(--jp-layout-color0, #111)));\n    --sklearn-color-border-box: var(--sg-text-color, var(--theme-code-foreground, var(--jp-content-font-color1, white)));\n    --sklearn-color-icon: #878787;\n  }\n}\n\n#sk-container-id-50 {\n  color: var(--sklearn-color-text);\n}\n\n#sk-container-id-50 pre {\n  padding: 0;\n}\n\n#sk-container-id-50 input.sk-hidden--visually {\n  border: 0;\n  clip: rect(1px 1px 1px 1px);\n  clip: rect(1px, 1px, 1px, 1px);\n  height: 1px;\n  margin: -1px;\n  overflow: hidden;\n  padding: 0;\n  position: absolute;\n  width: 1px;\n}\n\n#sk-container-id-50 div.sk-dashed-wrapped {\n  border: 1px dashed var(--sklearn-color-line);\n  margin: 0 0.4em 0.5em 0.4em;\n  box-sizing: border-box;\n  padding-bottom: 0.4em;\n  background-color: var(--sklearn-color-background);\n}\n\n#sk-container-id-50 div.sk-container {\n  /* jupyter's `normalize.less` sets `[hidden] { display: none; }`\n     but bootstrap.min.css set `[hidden] { display: none !important; }`\n     so we also need the `!important` here to be able to override the\n     default hidden behavior on the sphinx rendered scikit-learn.org.\n     See: https://github.com/scikit-learn/scikit-learn/issues/21755 */\n  display: inline-block !important;\n  position: relative;\n}\n\n#sk-container-id-50 div.sk-text-repr-fallback {\n  display: none;\n}\n\ndiv.sk-parallel-item,\ndiv.sk-serial,\ndiv.sk-item {\n  /* draw centered vertical line to link estimators */\n  background-image: linear-gradient(var(--sklearn-color-text-on-default-background), var(--sklearn-color-text-on-default-background));\n  background-size: 2px 100%;\n  background-repeat: no-repeat;\n  background-position: center center;\n}\n\n/* Parallel-specific style estimator block */\n\n#sk-container-id-50 div.sk-parallel-item::after {\n  content: \"\";\n  width: 100%;\n  border-bottom: 2px solid var(--sklearn-color-text-on-default-background);\n  flex-grow: 1;\n}\n\n#sk-container-id-50 div.sk-parallel {\n  display: flex;\n  align-items: stretch;\n  justify-content: center;\n  background-color: var(--sklearn-color-background);\n  position: relative;\n}\n\n#sk-container-id-50 div.sk-parallel-item {\n  display: flex;\n  flex-direction: column;\n}\n\n#sk-container-id-50 div.sk-parallel-item:first-child::after {\n  align-self: flex-end;\n  width: 50%;\n}\n\n#sk-container-id-50 div.sk-parallel-item:last-child::after {\n  align-self: flex-start;\n  width: 50%;\n}\n\n#sk-container-id-50 div.sk-parallel-item:only-child::after {\n  width: 0;\n}\n\n/* Serial-specific style estimator block */\n\n#sk-container-id-50 div.sk-serial {\n  display: flex;\n  flex-direction: column;\n  align-items: center;\n  background-color: var(--sklearn-color-background);\n  padding-right: 1em;\n  padding-left: 1em;\n}\n\n\n/* Toggleable style: style used for estimator/Pipeline/ColumnTransformer box that is\nclickable and can be expanded/collapsed.\n- Pipeline and ColumnTransformer use this feature and define the default style\n- Estimators will overwrite some part of the style using the `sk-estimator` class\n*/\n\n/* Pipeline and ColumnTransformer style (default) */\n\n#sk-container-id-50 div.sk-toggleable {\n  /* Default theme specific background. It is overwritten whether we have a\n  specific estimator or a Pipeline/ColumnTransformer */\n  background-color: var(--sklearn-color-background);\n}\n\n/* Toggleable label */\n#sk-container-id-50 label.sk-toggleable__label {\n  cursor: pointer;\n  display: block;\n  width: 100%;\n  margin-bottom: 0;\n  padding: 0.5em;\n  box-sizing: border-box;\n  text-align: center;\n}\n\n#sk-container-id-50 label.sk-toggleable__label-arrow:before {\n  /* Arrow on the left of the label */\n  content: \"▸\";\n  float: left;\n  margin-right: 0.25em;\n  color: var(--sklearn-color-icon);\n}\n\n#sk-container-id-50 label.sk-toggleable__label-arrow:hover:before {\n  color: var(--sklearn-color-text);\n}\n\n/* Toggleable content - dropdown */\n\n#sk-container-id-50 div.sk-toggleable__content {\n  max-height: 0;\n  max-width: 0;\n  overflow: hidden;\n  text-align: left;\n  /* unfitted */\n  background-color: var(--sklearn-color-unfitted-level-0);\n}\n\n#sk-container-id-50 div.sk-toggleable__content.fitted {\n  /* fitted */\n  background-color: var(--sklearn-color-fitted-level-0);\n}\n\n#sk-container-id-50 div.sk-toggleable__content pre {\n  margin: 0.2em;\n  border-radius: 0.25em;\n  color: var(--sklearn-color-text);\n  /* unfitted */\n  background-color: var(--sklearn-color-unfitted-level-0);\n}\n\n#sk-container-id-50 div.sk-toggleable__content.fitted pre {\n  /* unfitted */\n  background-color: var(--sklearn-color-fitted-level-0);\n}\n\n#sk-container-id-50 input.sk-toggleable__control:checked~div.sk-toggleable__content {\n  /* Expand drop-down */\n  max-height: 200px;\n  max-width: 100%;\n  overflow: auto;\n}\n\n#sk-container-id-50 input.sk-toggleable__control:checked~label.sk-toggleable__label-arrow:before {\n  content: \"▾\";\n}\n\n/* Pipeline/ColumnTransformer-specific style */\n\n#sk-container-id-50 div.sk-label input.sk-toggleable__control:checked~label.sk-toggleable__label {\n  color: var(--sklearn-color-text);\n  background-color: var(--sklearn-color-unfitted-level-2);\n}\n\n#sk-container-id-50 div.sk-label.fitted input.sk-toggleable__control:checked~label.sk-toggleable__label {\n  background-color: var(--sklearn-color-fitted-level-2);\n}\n\n/* Estimator-specific style */\n\n/* Colorize estimator box */\n#sk-container-id-50 div.sk-estimator input.sk-toggleable__control:checked~label.sk-toggleable__label {\n  /* unfitted */\n  background-color: var(--sklearn-color-unfitted-level-2);\n}\n\n#sk-container-id-50 div.sk-estimator.fitted input.sk-toggleable__control:checked~label.sk-toggleable__label {\n  /* fitted */\n  background-color: var(--sklearn-color-fitted-level-2);\n}\n\n#sk-container-id-50 div.sk-label label.sk-toggleable__label,\n#sk-container-id-50 div.sk-label label {\n  /* The background is the default theme color */\n  color: var(--sklearn-color-text-on-default-background);\n}\n\n/* On hover, darken the color of the background */\n#sk-container-id-50 div.sk-label:hover label.sk-toggleable__label {\n  color: var(--sklearn-color-text);\n  background-color: var(--sklearn-color-unfitted-level-2);\n}\n\n/* Label box, darken color on hover, fitted */\n#sk-container-id-50 div.sk-label.fitted:hover label.sk-toggleable__label.fitted {\n  color: var(--sklearn-color-text);\n  background-color: var(--sklearn-color-fitted-level-2);\n}\n\n/* Estimator label */\n\n#sk-container-id-50 div.sk-label label {\n  font-family: monospace;\n  font-weight: bold;\n  display: inline-block;\n  line-height: 1.2em;\n}\n\n#sk-container-id-50 div.sk-label-container {\n  text-align: center;\n}\n\n/* Estimator-specific */\n#sk-container-id-50 div.sk-estimator {\n  font-family: monospace;\n  border: 1px dotted var(--sklearn-color-border-box);\n  border-radius: 0.25em;\n  box-sizing: border-box;\n  margin-bottom: 0.5em;\n  /* unfitted */\n  background-color: var(--sklearn-color-unfitted-level-0);\n}\n\n#sk-container-id-50 div.sk-estimator.fitted {\n  /* fitted */\n  background-color: var(--sklearn-color-fitted-level-0);\n}\n\n/* on hover */\n#sk-container-id-50 div.sk-estimator:hover {\n  /* unfitted */\n  background-color: var(--sklearn-color-unfitted-level-2);\n}\n\n#sk-container-id-50 div.sk-estimator.fitted:hover {\n  /* fitted */\n  background-color: var(--sklearn-color-fitted-level-2);\n}\n\n/* Specification for estimator info (e.g. \"i\" and \"?\") */\n\n/* Common style for \"i\" and \"?\" */\n\n.sk-estimator-doc-link,\na:link.sk-estimator-doc-link,\na:visited.sk-estimator-doc-link {\n  float: right;\n  font-size: smaller;\n  line-height: 1em;\n  font-family: monospace;\n  background-color: var(--sklearn-color-background);\n  border-radius: 1em;\n  height: 1em;\n  width: 1em;\n  text-decoration: none !important;\n  margin-left: 1ex;\n  /* unfitted */\n  border: var(--sklearn-color-unfitted-level-1) 1pt solid;\n  color: var(--sklearn-color-unfitted-level-1);\n}\n\n.sk-estimator-doc-link.fitted,\na:link.sk-estimator-doc-link.fitted,\na:visited.sk-estimator-doc-link.fitted {\n  /* fitted */\n  border: var(--sklearn-color-fitted-level-1) 1pt solid;\n  color: var(--sklearn-color-fitted-level-1);\n}\n\n/* On hover */\ndiv.sk-estimator:hover .sk-estimator-doc-link:hover,\n.sk-estimator-doc-link:hover,\ndiv.sk-label-container:hover .sk-estimator-doc-link:hover,\n.sk-estimator-doc-link:hover {\n  /* unfitted */\n  background-color: var(--sklearn-color-unfitted-level-3);\n  color: var(--sklearn-color-background);\n  text-decoration: none;\n}\n\ndiv.sk-estimator.fitted:hover .sk-estimator-doc-link.fitted:hover,\n.sk-estimator-doc-link.fitted:hover,\ndiv.sk-label-container:hover .sk-estimator-doc-link.fitted:hover,\n.sk-estimator-doc-link.fitted:hover {\n  /* fitted */\n  background-color: var(--sklearn-color-fitted-level-3);\n  color: var(--sklearn-color-background);\n  text-decoration: none;\n}\n\n/* Span, style for the box shown on hovering the info icon */\n.sk-estimator-doc-link span {\n  display: none;\n  z-index: 9999;\n  position: relative;\n  font-weight: normal;\n  right: .2ex;\n  padding: .5ex;\n  margin: .5ex;\n  width: min-content;\n  min-width: 20ex;\n  max-width: 50ex;\n  color: var(--sklearn-color-text);\n  box-shadow: 2pt 2pt 4pt #999;\n  /* unfitted */\n  background: var(--sklearn-color-unfitted-level-0);\n  border: .5pt solid var(--sklearn-color-unfitted-level-3);\n}\n\n.sk-estimator-doc-link.fitted span {\n  /* fitted */\n  background: var(--sklearn-color-fitted-level-0);\n  border: var(--sklearn-color-fitted-level-3);\n}\n\n.sk-estimator-doc-link:hover span {\n  display: block;\n}\n\n/* \"?\"-specific style due to the `<a>` HTML tag */\n\n#sk-container-id-50 a.estimator_doc_link {\n  float: right;\n  font-size: 1rem;\n  line-height: 1em;\n  font-family: monospace;\n  background-color: var(--sklearn-color-background);\n  border-radius: 1rem;\n  height: 1rem;\n  width: 1rem;\n  text-decoration: none;\n  /* unfitted */\n  color: var(--sklearn-color-unfitted-level-1);\n  border: var(--sklearn-color-unfitted-level-1) 1pt solid;\n}\n\n#sk-container-id-50 a.estimator_doc_link.fitted {\n  /* fitted */\n  border: var(--sklearn-color-fitted-level-1) 1pt solid;\n  color: var(--sklearn-color-fitted-level-1);\n}\n\n/* On hover */\n#sk-container-id-50 a.estimator_doc_link:hover {\n  /* unfitted */\n  background-color: var(--sklearn-color-unfitted-level-3);\n  color: var(--sklearn-color-background);\n  text-decoration: none;\n}\n\n#sk-container-id-50 a.estimator_doc_link.fitted:hover {\n  /* fitted */\n  background-color: var(--sklearn-color-fitted-level-3);\n}\n</style><div id=\"sk-container-id-50\" class=\"sk-top-container\"><div class=\"sk-text-repr-fallback\"><pre>MLPRegressor(alpha=1, learning_rate=&#x27;adaptive&#x27;)</pre><b>In a Jupyter environment, please rerun this cell to show the HTML representation or trust the notebook. <br />On GitHub, the HTML representation is unable to render, please try loading this page with nbviewer.org.</b></div><div class=\"sk-container\" hidden><div class=\"sk-item\"><div class=\"sk-estimator fitted sk-toggleable\"><input class=\"sk-toggleable__control sk-hidden--visually\" id=\"sk-estimator-id-50\" type=\"checkbox\" checked><label for=\"sk-estimator-id-50\" class=\"sk-toggleable__label fitted sk-toggleable__label-arrow fitted\">&nbsp;&nbsp;MLPRegressor<a class=\"sk-estimator-doc-link fitted\" rel=\"noreferrer\" target=\"_blank\" href=\"https://scikit-learn.org/1.5/modules/generated/sklearn.neural_network.MLPRegressor.html\">?<span>Documentation for MLPRegressor</span></a><span class=\"sk-estimator-doc-link fitted\">i<span>Fitted</span></span></label><div class=\"sk-toggleable__content fitted\"><pre>MLPRegressor(alpha=1, learning_rate=&#x27;adaptive&#x27;)</pre></div> </div></div></div></div>"
     },
     "execution_count": 805,
     "metadata": {},
     "output_type": "execute_result"
    }
   ],
   "source": [
    "MLP_regression_model = MLPRegressor(activation='relu', alpha=1, learning_rate='adaptive')\n",
    "#MLP_regression_model = Ridge(alpha=1.0)\n",
    "#MLP_regression_model = LinearRegression()\n",
    "MLP_regression_model.fit(X_train, y_train)"
   ],
   "metadata": {
    "collapsed": false,
    "ExecuteTime": {
     "end_time": "2024-09-28T18:20:37.986985900Z",
     "start_time": "2024-09-28T18:20:15.356158500Z"
    }
   },
   "id": "eba0f49594d179d7"
  },
  {
   "cell_type": "markdown",
   "source": [
    "## Тест нейронки, а также зануление отрицательных значений"
   ],
   "metadata": {
    "collapsed": false
   },
   "id": "be7f3a10d704944"
  },
  {
   "cell_type": "code",
   "execution_count": 806,
   "outputs": [],
   "source": [
    "y_pred = MLP_regression_model.predict(X_test)\n",
    "y_pred[y_pred < 0] = 0"
   ],
   "metadata": {
    "collapsed": false,
    "ExecuteTime": {
     "end_time": "2024-09-28T18:20:38.008122900Z",
     "start_time": "2024-09-28T18:20:37.991389900Z"
    }
   },
   "id": "35f479f924c4e13e"
  },
  {
   "cell_type": "markdown",
   "source": [
    "## Точность нейросети"
   ],
   "metadata": {
    "collapsed": false
   },
   "id": "c48303246135fc76"
  },
  {
   "cell_type": "code",
   "execution_count": 807,
   "outputs": [
    {
     "name": "stdout",
     "output_type": "stream",
     "text": [
      "Средняя абсолютная ошибка (MAE): 108.3250751058915\n",
      "Средняя квадратичная ошибка (MSE): 56343.66528810454\n",
      "Коэффициент детерминации (R²): 0.6930640052380928\n"
     ]
    }
   ],
   "source": [
    "mae = mean_absolute_error(y_test, y_pred)\n",
    "mse = mean_squared_error(y_test, y_pred)\n",
    "r2 = r2_score(y_test, y_pred)\n",
    "\n",
    "print(f\"Средняя абсолютная ошибка (MAE): {mae}\")\n",
    "print(f\"Средняя квадратичная ошибка (MSE): {mse}\")\n",
    "print(f\"Коэффициент детерминации (R²): {r2}\")"
   ],
   "metadata": {
    "collapsed": false,
    "ExecuteTime": {
     "end_time": "2024-09-28T18:20:38.091430400Z",
     "start_time": "2024-09-28T18:20:38.008122900Z"
    }
   },
   "id": "146c62728e300a8"
  },
  {
   "cell_type": "code",
   "execution_count": 814,
   "outputs": [
    {
     "data": {
      "text/plain": "count    4521.000000\nmean      201.574510\nstd       337.427624\nmin         0.000000\n25%        16.133702\n50%        71.534376\n75%       212.074394\nmax      2525.154965\ndtype: float64"
     },
     "execution_count": 814,
     "metadata": {},
     "output_type": "execute_result"
    }
   ],
   "source": [
    "pd.Series(y_pred).describe()"
   ],
   "metadata": {
    "collapsed": false,
    "ExecuteTime": {
     "end_time": "2024-09-28T18:26:18.622377300Z",
     "start_time": "2024-09-28T18:26:18.596099900Z"
    }
   },
   "id": "1c5439a4ed40a823"
  },
  {
   "cell_type": "code",
   "execution_count": 815,
   "outputs": [
    {
     "data": {
      "text/plain": "count    4521.000000\nmean      199.353019\nstd       428.495902\nmin         1.000000\n25%         9.000000\n50%        42.000000\n75%       171.000000\nmax      3171.000000\nName: suicides_no, dtype: float64"
     },
     "execution_count": 815,
     "metadata": {},
     "output_type": "execute_result"
    }
   ],
   "source": [
    "pd.Series(y_test).describe()"
   ],
   "metadata": {
    "collapsed": false,
    "ExecuteTime": {
     "end_time": "2024-09-28T18:26:47.730863600Z",
     "start_time": "2024-09-28T18:26:47.682053400Z"
    }
   },
   "id": "cd4a9d6528f2dc64"
  },
  {
   "cell_type": "markdown",
   "source": [
    "## Просмотр весов"
   ],
   "metadata": {
    "collapsed": false
   },
   "id": "f4869974714279e5"
  },
  {
   "cell_type": "code",
   "execution_count": 810,
   "outputs": [
    {
     "data": {
      "text/plain": "        Input   Neuron_0  Neuron_1  Neuron_2  Neuron_3  Neuron_4  Neuron_5  \\\n0     Input_0   0.710955 -1.143837  0.774221  2.662934  0.484655  0.413069   \n1     Input_1   2.822331  4.948072  3.039244 -1.379782  2.893079  3.000884   \n2     Input_2   1.815695  0.984016  1.579624  2.740961  1.647563  1.874768   \n3     Input_3   1.280922  1.800686  1.183848 -2.093925  1.277318  1.205857   \n4     Input_4  -0.268529  0.366467  0.048055 -2.077037 -0.060021 -0.133822   \n..        ...        ...       ...       ...       ...       ...       ...   \n102  Input_95   2.514612       NaN       NaN       NaN       NaN       NaN   \n103  Input_96  -6.534355       NaN       NaN       NaN       NaN       NaN   \n104  Input_97  -6.269321       NaN       NaN       NaN       NaN       NaN   \n105  Input_98 -10.764918       NaN       NaN       NaN       NaN       NaN   \n106  Input_99  -5.743925       NaN       NaN       NaN       NaN       NaN   \n\n     Neuron_6  Neuron_7  Neuron_8  ...  Neuron_91  Neuron_92     Neuron_93  \\\n0    0.657169  0.529381  0.637157  ...   0.611501  -1.575619 -7.310949e-08   \n1    2.530795  3.024287  4.333856  ...   2.743633   5.446919 -6.675762e-38   \n2    1.488193  1.736445  1.524230  ...   1.605614   0.621288  1.206192e-05   \n3    1.174452  1.169101 -3.407569  ...   1.410257   2.282382  1.589728e-31   \n4   -0.373958  0.068987 -2.105920  ...  -0.322343   0.746148 -2.454513e-40   \n..        ...       ...       ...  ...        ...        ...           ...   \n102       NaN       NaN       NaN  ...        NaN        NaN           NaN   \n103       NaN       NaN       NaN  ...        NaN        NaN           NaN   \n104       NaN       NaN       NaN  ...        NaN        NaN           NaN   \n105       NaN       NaN       NaN  ...        NaN        NaN           NaN   \n106       NaN       NaN       NaN  ...        NaN        NaN           NaN   \n\n     Neuron_94  Neuron_95  Neuron_96  Neuron_97  Neuron_98  Neuron_99    Layer  \n0     0.425824   0.163378  -2.292940  -0.598438  -0.728579  -1.012580  Layer_1  \n1     2.991876   3.711608   0.771110   5.393974   7.831173  -0.885034  Layer_1  \n2     1.905665   1.366788  -4.940978   0.590625  -0.274015  -4.424514  Layer_1  \n3     1.397614   1.598238   2.396281  -4.967986  -7.936770   1.647847  Layer_1  \n4    -0.291995  -0.201794   3.164173  -1.246674   0.194035   3.260561  Layer_1  \n..         ...        ...        ...        ...        ...        ...      ...  \n102        NaN        NaN        NaN        NaN        NaN        NaN  Layer_2  \n103        NaN        NaN        NaN        NaN        NaN        NaN  Layer_2  \n104        NaN        NaN        NaN        NaN        NaN        NaN  Layer_2  \n105        NaN        NaN        NaN        NaN        NaN        NaN  Layer_2  \n106        NaN        NaN        NaN        NaN        NaN        NaN  Layer_2  \n\n[107 rows x 102 columns]",
      "text/html": "<div>\n<style scoped>\n    .dataframe tbody tr th:only-of-type {\n        vertical-align: middle;\n    }\n\n    .dataframe tbody tr th {\n        vertical-align: top;\n    }\n\n    .dataframe thead th {\n        text-align: right;\n    }\n</style>\n<table border=\"1\" class=\"dataframe\">\n  <thead>\n    <tr style=\"text-align: right;\">\n      <th></th>\n      <th>Input</th>\n      <th>Neuron_0</th>\n      <th>Neuron_1</th>\n      <th>Neuron_2</th>\n      <th>Neuron_3</th>\n      <th>Neuron_4</th>\n      <th>Neuron_5</th>\n      <th>Neuron_6</th>\n      <th>Neuron_7</th>\n      <th>Neuron_8</th>\n      <th>...</th>\n      <th>Neuron_91</th>\n      <th>Neuron_92</th>\n      <th>Neuron_93</th>\n      <th>Neuron_94</th>\n      <th>Neuron_95</th>\n      <th>Neuron_96</th>\n      <th>Neuron_97</th>\n      <th>Neuron_98</th>\n      <th>Neuron_99</th>\n      <th>Layer</th>\n    </tr>\n  </thead>\n  <tbody>\n    <tr>\n      <th>0</th>\n      <td>Input_0</td>\n      <td>0.710955</td>\n      <td>-1.143837</td>\n      <td>0.774221</td>\n      <td>2.662934</td>\n      <td>0.484655</td>\n      <td>0.413069</td>\n      <td>0.657169</td>\n      <td>0.529381</td>\n      <td>0.637157</td>\n      <td>...</td>\n      <td>0.611501</td>\n      <td>-1.575619</td>\n      <td>-7.310949e-08</td>\n      <td>0.425824</td>\n      <td>0.163378</td>\n      <td>-2.292940</td>\n      <td>-0.598438</td>\n      <td>-0.728579</td>\n      <td>-1.012580</td>\n      <td>Layer_1</td>\n    </tr>\n    <tr>\n      <th>1</th>\n      <td>Input_1</td>\n      <td>2.822331</td>\n      <td>4.948072</td>\n      <td>3.039244</td>\n      <td>-1.379782</td>\n      <td>2.893079</td>\n      <td>3.000884</td>\n      <td>2.530795</td>\n      <td>3.024287</td>\n      <td>4.333856</td>\n      <td>...</td>\n      <td>2.743633</td>\n      <td>5.446919</td>\n      <td>-6.675762e-38</td>\n      <td>2.991876</td>\n      <td>3.711608</td>\n      <td>0.771110</td>\n      <td>5.393974</td>\n      <td>7.831173</td>\n      <td>-0.885034</td>\n      <td>Layer_1</td>\n    </tr>\n    <tr>\n      <th>2</th>\n      <td>Input_2</td>\n      <td>1.815695</td>\n      <td>0.984016</td>\n      <td>1.579624</td>\n      <td>2.740961</td>\n      <td>1.647563</td>\n      <td>1.874768</td>\n      <td>1.488193</td>\n      <td>1.736445</td>\n      <td>1.524230</td>\n      <td>...</td>\n      <td>1.605614</td>\n      <td>0.621288</td>\n      <td>1.206192e-05</td>\n      <td>1.905665</td>\n      <td>1.366788</td>\n      <td>-4.940978</td>\n      <td>0.590625</td>\n      <td>-0.274015</td>\n      <td>-4.424514</td>\n      <td>Layer_1</td>\n    </tr>\n    <tr>\n      <th>3</th>\n      <td>Input_3</td>\n      <td>1.280922</td>\n      <td>1.800686</td>\n      <td>1.183848</td>\n      <td>-2.093925</td>\n      <td>1.277318</td>\n      <td>1.205857</td>\n      <td>1.174452</td>\n      <td>1.169101</td>\n      <td>-3.407569</td>\n      <td>...</td>\n      <td>1.410257</td>\n      <td>2.282382</td>\n      <td>1.589728e-31</td>\n      <td>1.397614</td>\n      <td>1.598238</td>\n      <td>2.396281</td>\n      <td>-4.967986</td>\n      <td>-7.936770</td>\n      <td>1.647847</td>\n      <td>Layer_1</td>\n    </tr>\n    <tr>\n      <th>4</th>\n      <td>Input_4</td>\n      <td>-0.268529</td>\n      <td>0.366467</td>\n      <td>0.048055</td>\n      <td>-2.077037</td>\n      <td>-0.060021</td>\n      <td>-0.133822</td>\n      <td>-0.373958</td>\n      <td>0.068987</td>\n      <td>-2.105920</td>\n      <td>...</td>\n      <td>-0.322343</td>\n      <td>0.746148</td>\n      <td>-2.454513e-40</td>\n      <td>-0.291995</td>\n      <td>-0.201794</td>\n      <td>3.164173</td>\n      <td>-1.246674</td>\n      <td>0.194035</td>\n      <td>3.260561</td>\n      <td>Layer_1</td>\n    </tr>\n    <tr>\n      <th>...</th>\n      <td>...</td>\n      <td>...</td>\n      <td>...</td>\n      <td>...</td>\n      <td>...</td>\n      <td>...</td>\n      <td>...</td>\n      <td>...</td>\n      <td>...</td>\n      <td>...</td>\n      <td>...</td>\n      <td>...</td>\n      <td>...</td>\n      <td>...</td>\n      <td>...</td>\n      <td>...</td>\n      <td>...</td>\n      <td>...</td>\n      <td>...</td>\n      <td>...</td>\n      <td>...</td>\n    </tr>\n    <tr>\n      <th>102</th>\n      <td>Input_95</td>\n      <td>2.514612</td>\n      <td>NaN</td>\n      <td>NaN</td>\n      <td>NaN</td>\n      <td>NaN</td>\n      <td>NaN</td>\n      <td>NaN</td>\n      <td>NaN</td>\n      <td>NaN</td>\n      <td>...</td>\n      <td>NaN</td>\n      <td>NaN</td>\n      <td>NaN</td>\n      <td>NaN</td>\n      <td>NaN</td>\n      <td>NaN</td>\n      <td>NaN</td>\n      <td>NaN</td>\n      <td>NaN</td>\n      <td>Layer_2</td>\n    </tr>\n    <tr>\n      <th>103</th>\n      <td>Input_96</td>\n      <td>-6.534355</td>\n      <td>NaN</td>\n      <td>NaN</td>\n      <td>NaN</td>\n      <td>NaN</td>\n      <td>NaN</td>\n      <td>NaN</td>\n      <td>NaN</td>\n      <td>NaN</td>\n      <td>...</td>\n      <td>NaN</td>\n      <td>NaN</td>\n      <td>NaN</td>\n      <td>NaN</td>\n      <td>NaN</td>\n      <td>NaN</td>\n      <td>NaN</td>\n      <td>NaN</td>\n      <td>NaN</td>\n      <td>Layer_2</td>\n    </tr>\n    <tr>\n      <th>104</th>\n      <td>Input_97</td>\n      <td>-6.269321</td>\n      <td>NaN</td>\n      <td>NaN</td>\n      <td>NaN</td>\n      <td>NaN</td>\n      <td>NaN</td>\n      <td>NaN</td>\n      <td>NaN</td>\n      <td>NaN</td>\n      <td>...</td>\n      <td>NaN</td>\n      <td>NaN</td>\n      <td>NaN</td>\n      <td>NaN</td>\n      <td>NaN</td>\n      <td>NaN</td>\n      <td>NaN</td>\n      <td>NaN</td>\n      <td>NaN</td>\n      <td>Layer_2</td>\n    </tr>\n    <tr>\n      <th>105</th>\n      <td>Input_98</td>\n      <td>-10.764918</td>\n      <td>NaN</td>\n      <td>NaN</td>\n      <td>NaN</td>\n      <td>NaN</td>\n      <td>NaN</td>\n      <td>NaN</td>\n      <td>NaN</td>\n      <td>NaN</td>\n      <td>...</td>\n      <td>NaN</td>\n      <td>NaN</td>\n      <td>NaN</td>\n      <td>NaN</td>\n      <td>NaN</td>\n      <td>NaN</td>\n      <td>NaN</td>\n      <td>NaN</td>\n      <td>NaN</td>\n      <td>Layer_2</td>\n    </tr>\n    <tr>\n      <th>106</th>\n      <td>Input_99</td>\n      <td>-5.743925</td>\n      <td>NaN</td>\n      <td>NaN</td>\n      <td>NaN</td>\n      <td>NaN</td>\n      <td>NaN</td>\n      <td>NaN</td>\n      <td>NaN</td>\n      <td>NaN</td>\n      <td>...</td>\n      <td>NaN</td>\n      <td>NaN</td>\n      <td>NaN</td>\n      <td>NaN</td>\n      <td>NaN</td>\n      <td>NaN</td>\n      <td>NaN</td>\n      <td>NaN</td>\n      <td>NaN</td>\n      <td>Layer_2</td>\n    </tr>\n  </tbody>\n</table>\n<p>107 rows × 102 columns</p>\n</div>"
     },
     "execution_count": 810,
     "metadata": {},
     "output_type": "execute_result"
    }
   ],
   "source": [
    "coefs = MLP_regression_model.coefs_\n",
    "\n",
    "layer_dfs = []\n",
    "\n",
    "for i, coef in enumerate(coefs):\n",
    "    df_layer = pd.DataFrame(coef)\n",
    "\n",
    "    df_layer.columns = [f'Neuron_{j}' for j in range(df_layer.shape[1])]\n",
    "    df_layer.index = [f'Input_{j}' for j in range(df_layer.shape[0])]\n",
    "\n",
    "    df_layer['Layer'] = f'Layer_{i + 1}'\n",
    "    layer_dfs.append(df_layer)\n",
    "\n",
    "combined_df = pd.concat(layer_dfs)\n",
    "combined_df.reset_index(inplace=True)\n",
    "combined_df.rename(columns={'index': 'Input'}, inplace=True)\n",
    "\n",
    "combined_df"
   ],
   "metadata": {
    "collapsed": false,
    "ExecuteTime": {
     "end_time": "2024-09-28T18:20:38.232181200Z",
     "start_time": "2024-09-28T18:20:38.054763100Z"
    }
   },
   "id": "4e1e2ec630197e9d"
  },
  {
   "cell_type": "markdown",
   "source": [
    "### Обработка весов"
   ],
   "metadata": {
    "collapsed": false
   },
   "id": "9bc4d3afe83af135"
  },
  {
   "cell_type": "code",
   "execution_count": 811,
   "outputs": [],
   "source": [
    "combined_df.replace(np.nan, 0)\n",
    "combined_df.index = combined_df['Input']\n",
    "combined_df.drop(['Input', 'Layer'], inplace=True, axis=1)\n",
    "combined_df = combined_df.astype(float)\n",
    "combined_df = combined_df.head(7)"
   ],
   "metadata": {
    "collapsed": false,
    "ExecuteTime": {
     "end_time": "2024-09-28T18:20:38.233182Z",
     "start_time": "2024-09-28T18:20:38.121430900Z"
    }
   },
   "id": "c81c7899c4099992"
  },
  {
   "cell_type": "markdown",
   "source": [
    "### Визуализация весов"
   ],
   "metadata": {
    "collapsed": false
   },
   "id": "18ec07216298c679"
  },
  {
   "cell_type": "code",
   "execution_count": 812,
   "outputs": [
    {
     "data": {
      "text/plain": "<Figure size 1800x600 with 2 Axes>",
      "image/png": "[encoded data removed]"
     },
     "metadata": {},
     "output_type": "display_data"
    }
   ],
   "source": [
    "plt.figure(figsize=(18, 6))\n",
    "# plt.imshow(combined_df, cmap='viridis', interpolation='none')\n",
    "sns.heatmap(combined_df, cmap='viridis', cbar=True, linewidths=0.5, linecolor='white', annot=False)\n",
    "# plt.colorbar()\n",
    "plt.title('Weight Matrix Visualization')\n",
    "plt.show()"
   ],
   "metadata": {
    "collapsed": false,
    "ExecuteTime": {
     "end_time": "2024-09-28T18:20:40.249452100Z",
     "start_time": "2024-09-28T18:20:38.135306800Z"
    }
   },
   "id": "60490a8f81bf4057"
  },
  {
   "cell_type": "code",
   "execution_count": 812,
   "outputs": [],
   "source": [],
   "metadata": {
    "collapsed": false,
    "ExecuteTime": {
     "end_time": "2024-09-28T18:20:40.281879700Z",
     "start_time": "2024-09-28T18:20:40.254186200Z"
    }
   },
   "id": "3dcd5a0a3625a26c"
  }
 ],
 "metadata": {
  "kernelspec": {
   "display_name": "Python 3",
   "language": "python",
   "name": "python3"
  },
  "language_info": {
   "codemirror_mode": {
    "name": "ipython",
    "version": 2
   },
   "file_extension": ".py",
   "mimetype": "text/x-python",
   "name": "python",
   "nbconvert_exporter": "python",
   "pygments_lexer": "ipython2",
   "version": "2.7.6"
  }
 },
 "nbformat": 4,
 "nbformat_minor": 5
}
